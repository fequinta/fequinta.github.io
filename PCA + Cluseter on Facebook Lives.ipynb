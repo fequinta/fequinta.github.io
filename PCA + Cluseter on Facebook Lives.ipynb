{
 "cells": [
  {
   "cell_type": "code",
   "execution_count": 1,
   "id": "d655f6da",
   "metadata": {},
   "outputs": [
    {
     "data": {
      "text/html": [
       "<div>\n",
       "<style scoped>\n",
       "    .dataframe tbody tr th:only-of-type {\n",
       "        vertical-align: middle;\n",
       "    }\n",
       "\n",
       "    .dataframe tbody tr th {\n",
       "        vertical-align: top;\n",
       "    }\n",
       "\n",
       "    .dataframe thead th {\n",
       "        text-align: right;\n",
       "    }\n",
       "</style>\n",
       "<table border=\"1\" class=\"dataframe\">\n",
       "  <thead>\n",
       "    <tr style=\"text-align: right;\">\n",
       "      <th></th>\n",
       "      <th>status_id</th>\n",
       "      <th>status_type</th>\n",
       "      <th>time_published</th>\n",
       "      <th>num_comments</th>\n",
       "      <th>num_shares</th>\n",
       "      <th>num_likes</th>\n",
       "      <th>num_loves</th>\n",
       "      <th>num_wows</th>\n",
       "      <th>num_hahas</th>\n",
       "      <th>num_sads</th>\n",
       "      <th>num_angrys</th>\n",
       "    </tr>\n",
       "  </thead>\n",
       "  <tbody>\n",
       "    <tr>\n",
       "      <th>0</th>\n",
       "      <td>1</td>\n",
       "      <td>photo</td>\n",
       "      <td>2023-07-04 22:45:00</td>\n",
       "      <td>0</td>\n",
       "      <td>0</td>\n",
       "      <td>150</td>\n",
       "      <td>0</td>\n",
       "      <td>0</td>\n",
       "      <td>0</td>\n",
       "      <td>0</td>\n",
       "      <td>0</td>\n",
       "    </tr>\n",
       "    <tr>\n",
       "      <th>1</th>\n",
       "      <td>2</td>\n",
       "      <td>photo</td>\n",
       "      <td>2023-06-23 01:01:00</td>\n",
       "      <td>2</td>\n",
       "      <td>3</td>\n",
       "      <td>202</td>\n",
       "      <td>7</td>\n",
       "      <td>1</td>\n",
       "      <td>0</td>\n",
       "      <td>0</td>\n",
       "      <td>0</td>\n",
       "    </tr>\n",
       "    <tr>\n",
       "      <th>2</th>\n",
       "      <td>3</td>\n",
       "      <td>photo</td>\n",
       "      <td>2023-06-21 02:23:00</td>\n",
       "      <td>4</td>\n",
       "      <td>0</td>\n",
       "      <td>200</td>\n",
       "      <td>8</td>\n",
       "      <td>1</td>\n",
       "      <td>0</td>\n",
       "      <td>0</td>\n",
       "      <td>0</td>\n",
       "    </tr>\n",
       "    <tr>\n",
       "      <th>3</th>\n",
       "      <td>4</td>\n",
       "      <td>video</td>\n",
       "      <td>2023-06-14 05:16:00</td>\n",
       "      <td>100</td>\n",
       "      <td>30</td>\n",
       "      <td>303</td>\n",
       "      <td>23</td>\n",
       "      <td>1</td>\n",
       "      <td>5</td>\n",
       "      <td>0</td>\n",
       "      <td>0</td>\n",
       "    </tr>\n",
       "    <tr>\n",
       "      <th>4</th>\n",
       "      <td>5</td>\n",
       "      <td>video</td>\n",
       "      <td>2023-06-08 08:28:00</td>\n",
       "      <td>173</td>\n",
       "      <td>47</td>\n",
       "      <td>132</td>\n",
       "      <td>16</td>\n",
       "      <td>1</td>\n",
       "      <td>0</td>\n",
       "      <td>1</td>\n",
       "      <td>0</td>\n",
       "    </tr>\n",
       "    <tr>\n",
       "      <th>5</th>\n",
       "      <td>6</td>\n",
       "      <td>photo</td>\n",
       "      <td>2023-06-03 08:40:00</td>\n",
       "      <td>15</td>\n",
       "      <td>1</td>\n",
       "      <td>221</td>\n",
       "      <td>12</td>\n",
       "      <td>1</td>\n",
       "      <td>0</td>\n",
       "      <td>0</td>\n",
       "      <td>0</td>\n",
       "    </tr>\n",
       "    <tr>\n",
       "      <th>6</th>\n",
       "      <td>7</td>\n",
       "      <td>video</td>\n",
       "      <td>2023-06-01 22:34:00</td>\n",
       "      <td>0</td>\n",
       "      <td>1</td>\n",
       "      <td>37</td>\n",
       "      <td>0</td>\n",
       "      <td>0</td>\n",
       "      <td>0</td>\n",
       "      <td>0</td>\n",
       "      <td>0</td>\n",
       "    </tr>\n",
       "    <tr>\n",
       "      <th>7</th>\n",
       "      <td>8</td>\n",
       "      <td>photo</td>\n",
       "      <td>2023-05-22 05:55:00</td>\n",
       "      <td>0</td>\n",
       "      <td>0</td>\n",
       "      <td>81</td>\n",
       "      <td>2</td>\n",
       "      <td>2</td>\n",
       "      <td>0</td>\n",
       "      <td>0</td>\n",
       "      <td>0</td>\n",
       "    </tr>\n",
       "    <tr>\n",
       "      <th>8</th>\n",
       "      <td>9</td>\n",
       "      <td>photo</td>\n",
       "      <td>2023-05-18 02:48:00</td>\n",
       "      <td>8</td>\n",
       "      <td>0</td>\n",
       "      <td>281</td>\n",
       "      <td>11</td>\n",
       "      <td>1</td>\n",
       "      <td>0</td>\n",
       "      <td>0</td>\n",
       "      <td>0</td>\n",
       "    </tr>\n",
       "    <tr>\n",
       "      <th>9</th>\n",
       "      <td>10</td>\n",
       "      <td>photo</td>\n",
       "      <td>2023-05-13 01:43:00</td>\n",
       "      <td>11</td>\n",
       "      <td>6</td>\n",
       "      <td>61</td>\n",
       "      <td>4</td>\n",
       "      <td>1</td>\n",
       "      <td>0</td>\n",
       "      <td>0</td>\n",
       "      <td>0</td>\n",
       "    </tr>\n",
       "  </tbody>\n",
       "</table>\n",
       "</div>"
      ],
      "text/plain": [
       "   status_id status_type      time_published  num_comments  num_shares  \\\n",
       "0          1       photo 2023-07-04 22:45:00             0           0   \n",
       "1          2       photo 2023-06-23 01:01:00             2           3   \n",
       "2          3       photo 2023-06-21 02:23:00             4           0   \n",
       "3          4       video 2023-06-14 05:16:00           100          30   \n",
       "4          5       video 2023-06-08 08:28:00           173          47   \n",
       "5          6       photo 2023-06-03 08:40:00            15           1   \n",
       "6          7       video 2023-06-01 22:34:00             0           1   \n",
       "7          8       photo 2023-05-22 05:55:00             0           0   \n",
       "8          9       photo 2023-05-18 02:48:00             8           0   \n",
       "9         10       photo 2023-05-13 01:43:00            11           6   \n",
       "\n",
       "   num_likes  num_loves  num_wows  num_hahas  num_sads  num_angrys  \n",
       "0        150          0         0          0         0           0  \n",
       "1        202          7         1          0         0           0  \n",
       "2        200          8         1          0         0           0  \n",
       "3        303         23         1          5         0           0  \n",
       "4        132         16         1          0         1           0  \n",
       "5        221         12         1          0         0           0  \n",
       "6         37          0         0          0         0           0  \n",
       "7         81          2         2          0         0           0  \n",
       "8        281         11         1          0         0           0  \n",
       "9         61          4         1          0         0           0  "
      ]
     },
     "execution_count": 1,
     "metadata": {},
     "output_type": "execute_result"
    }
   ],
   "source": [
    "# importing libraries\n",
    "import numpy as np                                          # For numerical operations\n",
    "import pandas as pd                                         # For data manipulation and analysis\n",
    "from sklearn.decomposition import PCA                       # Principal Component Analysis for dimensionality reduction\n",
    "from sklearn.linear_model import LogisticRegression         # Logistic regression for classification\n",
    "from sklearn.model_selection import train_test_split        # Splitting data into train and test sets\n",
    "from sklearn.preprocessing import StandardScaler            # Standardizing features by removing the mean and scaling to unit variance\n",
    "from sklearn.metrics import confusion_matrix, roc_auc_score, accuracy_score, precision_score  # Metrics to evaluate the model\n",
    "from sklearn.cluster import KMeans                          # k-means clustering\n",
    "import sklearn.linear_model                                 # Provides various regression and classification models\n",
    "import matplotlib.pyplot as plt                             # Plotting library\n",
    "import seaborn as sns                                       # Advanced visualization library based on matplotlib\n",
    "\n",
    "file    = '../final_ass/facebook_live_data.xlsx'\n",
    "facebook = pd.read_excel(io = file)\n",
    "\n",
    "# checking results\n",
    "facebook.head(n = 10)"
   ]
  },
  {
   "cell_type": "code",
   "execution_count": 2,
   "id": "3dc05b6b",
   "metadata": {},
   "outputs": [
    {
     "data": {
      "text/html": [
       "<div>\n",
       "<style scoped>\n",
       "    .dataframe tbody tr th:only-of-type {\n",
       "        vertical-align: middle;\n",
       "    }\n",
       "\n",
       "    .dataframe tbody tr th {\n",
       "        vertical-align: top;\n",
       "    }\n",
       "\n",
       "    .dataframe thead th {\n",
       "        text-align: right;\n",
       "    }\n",
       "</style>\n",
       "<table border=\"1\" class=\"dataframe\">\n",
       "  <thead>\n",
       "    <tr style=\"text-align: right;\">\n",
       "      <th></th>\n",
       "      <th>status_id</th>\n",
       "      <th>time_published</th>\n",
       "      <th>num_comments</th>\n",
       "      <th>num_shares</th>\n",
       "      <th>num_likes</th>\n",
       "      <th>num_loves</th>\n",
       "      <th>num_wows</th>\n",
       "      <th>num_hahas</th>\n",
       "      <th>num_sads</th>\n",
       "      <th>num_angrys</th>\n",
       "    </tr>\n",
       "  </thead>\n",
       "  <tbody>\n",
       "    <tr>\n",
       "      <th>count</th>\n",
       "      <td>2362.00000</td>\n",
       "      <td>2362</td>\n",
       "      <td>2362.000000</td>\n",
       "      <td>2362.000000</td>\n",
       "      <td>2362.000000</td>\n",
       "      <td>2362.000000</td>\n",
       "      <td>2362.000000</td>\n",
       "      <td>2362.000000</td>\n",
       "      <td>2362.000000</td>\n",
       "      <td>2362.000000</td>\n",
       "    </tr>\n",
       "    <tr>\n",
       "      <th>mean</th>\n",
       "      <td>1181.50000</td>\n",
       "      <td>2022-01-17 21:45:45.673158144</td>\n",
       "      <td>233.729890</td>\n",
       "      <td>39.822185</td>\n",
       "      <td>221.147756</td>\n",
       "      <td>12.827265</td>\n",
       "      <td>1.282388</td>\n",
       "      <td>0.740051</td>\n",
       "      <td>0.260373</td>\n",
       "      <td>0.122777</td>\n",
       "    </tr>\n",
       "    <tr>\n",
       "      <th>min</th>\n",
       "      <td>1.00000</td>\n",
       "      <td>2017-09-27 02:58:00</td>\n",
       "      <td>0.000000</td>\n",
       "      <td>0.000000</td>\n",
       "      <td>0.000000</td>\n",
       "      <td>0.000000</td>\n",
       "      <td>0.000000</td>\n",
       "      <td>0.000000</td>\n",
       "      <td>0.000000</td>\n",
       "      <td>0.000000</td>\n",
       "    </tr>\n",
       "    <tr>\n",
       "      <th>25%</th>\n",
       "      <td>591.25000</td>\n",
       "      <td>2021-03-25 16:10:15</td>\n",
       "      <td>0.000000</td>\n",
       "      <td>0.000000</td>\n",
       "      <td>17.000000</td>\n",
       "      <td>0.000000</td>\n",
       "      <td>0.000000</td>\n",
       "      <td>0.000000</td>\n",
       "      <td>0.000000</td>\n",
       "      <td>0.000000</td>\n",
       "    </tr>\n",
       "    <tr>\n",
       "      <th>50%</th>\n",
       "      <td>1181.50000</td>\n",
       "      <td>2023-01-28 04:36:30</td>\n",
       "      <td>4.000000</td>\n",
       "      <td>0.000000</td>\n",
       "      <td>57.000000</td>\n",
       "      <td>0.000000</td>\n",
       "      <td>0.000000</td>\n",
       "      <td>0.000000</td>\n",
       "      <td>0.000000</td>\n",
       "      <td>0.000000</td>\n",
       "    </tr>\n",
       "    <tr>\n",
       "      <th>75%</th>\n",
       "      <td>1771.75000</td>\n",
       "      <td>2023-05-17 11:30:30</td>\n",
       "      <td>23.000000</td>\n",
       "      <td>3.000000</td>\n",
       "      <td>186.000000</td>\n",
       "      <td>3.000000</td>\n",
       "      <td>0.000000</td>\n",
       "      <td>0.000000</td>\n",
       "      <td>0.000000</td>\n",
       "      <td>0.000000</td>\n",
       "    </tr>\n",
       "    <tr>\n",
       "      <th>max</th>\n",
       "      <td>2362.00000</td>\n",
       "      <td>2023-08-25 21:08:00</td>\n",
       "      <td>10960.000000</td>\n",
       "      <td>1260.000000</td>\n",
       "      <td>4315.000000</td>\n",
       "      <td>421.000000</td>\n",
       "      <td>278.000000</td>\n",
       "      <td>102.000000</td>\n",
       "      <td>46.000000</td>\n",
       "      <td>31.000000</td>\n",
       "    </tr>\n",
       "    <tr>\n",
       "      <th>std</th>\n",
       "      <td>681.99499</td>\n",
       "      <td>NaN</td>\n",
       "      <td>856.359157</td>\n",
       "      <td>123.780440</td>\n",
       "      <td>467.312818</td>\n",
       "      <td>40.997534</td>\n",
       "      <td>8.718397</td>\n",
       "      <td>4.111450</td>\n",
       "      <td>1.842239</td>\n",
       "      <td>0.904222</td>\n",
       "    </tr>\n",
       "  </tbody>\n",
       "</table>\n",
       "</div>"
      ],
      "text/plain": [
       "        status_id                 time_published  num_comments   num_shares  \\\n",
       "count  2362.00000                           2362   2362.000000  2362.000000   \n",
       "mean   1181.50000  2022-01-17 21:45:45.673158144    233.729890    39.822185   \n",
       "min       1.00000            2017-09-27 02:58:00      0.000000     0.000000   \n",
       "25%     591.25000            2021-03-25 16:10:15      0.000000     0.000000   \n",
       "50%    1181.50000            2023-01-28 04:36:30      4.000000     0.000000   \n",
       "75%    1771.75000            2023-05-17 11:30:30     23.000000     3.000000   \n",
       "max    2362.00000            2023-08-25 21:08:00  10960.000000  1260.000000   \n",
       "std     681.99499                            NaN    856.359157   123.780440   \n",
       "\n",
       "         num_likes    num_loves     num_wows    num_hahas     num_sads  \\\n",
       "count  2362.000000  2362.000000  2362.000000  2362.000000  2362.000000   \n",
       "mean    221.147756    12.827265     1.282388     0.740051     0.260373   \n",
       "min       0.000000     0.000000     0.000000     0.000000     0.000000   \n",
       "25%      17.000000     0.000000     0.000000     0.000000     0.000000   \n",
       "50%      57.000000     0.000000     0.000000     0.000000     0.000000   \n",
       "75%     186.000000     3.000000     0.000000     0.000000     0.000000   \n",
       "max    4315.000000   421.000000   278.000000   102.000000    46.000000   \n",
       "std     467.312818    40.997534     8.718397     4.111450     1.842239   \n",
       "\n",
       "        num_angrys  \n",
       "count  2362.000000  \n",
       "mean      0.122777  \n",
       "min       0.000000  \n",
       "25%       0.000000  \n",
       "50%       0.000000  \n",
       "75%       0.000000  \n",
       "max      31.000000  \n",
       "std       0.904222  "
      ]
     },
     "execution_count": 2,
     "metadata": {},
     "output_type": "execute_result"
    }
   ],
   "source": [
    "# Check statistical details of the data\n",
    "facebook.describe()"
   ]
  },
  {
   "cell_type": "code",
   "execution_count": 3,
   "id": "2b58e054",
   "metadata": {},
   "outputs": [
    {
     "data": {
      "text/plain": [
       "(2362, 11)"
      ]
     },
     "execution_count": 3,
     "metadata": {},
     "output_type": "execute_result"
    }
   ],
   "source": [
    "#Check shape of data\n",
    "facebook.shape"
   ]
  },
  {
   "cell_type": "markdown",
   "id": "714f196d",
   "metadata": {},
   "source": [
    "# Principal components (PCA)"
   ]
  },
  {
   "cell_type": "code",
   "execution_count": 19,
   "id": "aead83ba",
   "metadata": {},
   "outputs": [],
   "source": [
    "########################################\n",
    "# scree_plot\n",
    "########################################\n",
    "def scree_plot(pca_object, export=False):\n",
    "    \"\"\"\n",
    "    Visualizes a scree plot from a pca object and adds a vertical line to indicate\n",
    "    the chosen cutoff point.\n",
    "\n",
    "    PARAMETERS\n",
    "    ----------\n",
    "    pca_object | A fitted pca object\n",
    "    export     | Set to True if you would like to save the scree plot to the\n",
    "               | current working directory (default: False)\n",
    "    \"\"\"\n",
    "    # building a scree plot\n",
    "    # setting plot size\n",
    "    fig, ax = plt.subplots(figsize=(10, 8))\n",
    "    features = range(pca_object.n_components_)\n",
    "\n",
    "    # developing a scree plot\n",
    "    explained_variances = pca_object.explained_variance_ratio_\n",
    "    plt.plot(features,\n",
    "             explained_variances,\n",
    "             linewidth=3,\n",
    "             marker='o',\n",
    "             markersize=10,\n",
    "             markeredgecolor='black',\n",
    "             markerfacecolor='grey')\n",
    "\n",
    "    # Specify the cutoff point as 3\n",
    "    cutoff = 4  # Choosing 3 components as the cutoff\n",
    "\n",
    "    # Draw vertical line at the cutoff point\n",
    "    plt.axvline(x=cutoff-1, color='r', linestyle='--', label=f'Cutoff at Component {cutoff}')\n",
    "    plt.legend()\n",
    "\n",
    "    # setting more plot options\n",
    "    plt.title('Scree Plot with Chosen Cutoff Point')\n",
    "    plt.xlabel('PCA Feature')\n",
    "    plt.ylabel('Explained Variance')\n",
    "    plt.xticks(features)\n",
    "\n",
    "    if export:\n",
    "        # exporting the plot\n",
    "        plt.savefig('./__analysis_images/pca_scree_plot.png')\n",
    "\n",
    "    # displaying the plot\n",
    "    plt.show()\n",
    "\n",
    "########################################\n",
    "# unsupervised_scaler\n",
    "########################################\n",
    "# standard_scaler\n",
    "def standard_scaler(df):\n",
    "    \"\"\"\n",
    "    Standardizes a dataset (mean = 0, variance = 1). Returns a new DataFrame.\n",
    "    Requires sklearn.preprocessing.StandardScaler()\n",
    "    \n",
    "    PARAMETERS\n",
    "    ----------\n",
    "    df     | DataFrame to be used for scaling\n",
    "    \"\"\"\n",
    "\n",
    "    # INSTANTIATING a StandardScaler() object\n",
    "    scaler = StandardScaler(copy = True)\n",
    "\n",
    "\n",
    "    # FITTING the scaler with the data\n",
    "    scaler.fit(df)\n",
    "\n",
    "\n",
    "    # TRANSFORMING our data after fit\n",
    "    x_scaled = scaler.transform(df)\n",
    "\n",
    "    \n",
    "    # converting scaled data into a DataFrame\n",
    "    new_df = pd.DataFrame(x_scaled)\n",
    "\n",
    "\n",
    "    # reattaching column names\n",
    "    new_df.columns = list(df.columns)\n",
    "    \n",
    "    return new_df"
   ]
  },
  {
   "cell_type": "code",
   "execution_count": 8,
   "id": "874cd835",
   "metadata": {},
   "outputs": [],
   "source": [
    "# subsetting continuous data\n",
    "facebook_continuous = facebook[ ['num_comments','num_shares', 'num_likes', 'num_loves', \n",
    "                                 'num_wows', 'num_hahas', 'num_sads', 'num_angrys'] ]\n",
    "\n",
    "\n",
    "# scaling the data\n",
    "data_scaled = standard_scaler(df = facebook_continuous)"
   ]
  },
  {
   "cell_type": "code",
   "execution_count": 10,
   "id": "30434cd7",
   "metadata": {
    "scrolled": true
   },
   "outputs": [
    {
     "name": "stdout",
     "output_type": "stream",
     "text": [
      "num_comments    1.0\n",
      "num_shares      1.0\n",
      "num_likes       1.0\n",
      "num_loves       1.0\n",
      "num_wows        1.0\n",
      "num_hahas       1.0\n",
      "num_sads        1.0\n",
      "num_angrys      1.0\n",
      "dtype: float64\n"
     ]
    },
    {
     "name": "stderr",
     "output_type": "stream",
     "text": [
      "C:\\Users\\fquin\\anaconda3\\Lib\\site-packages\\numpy\\core\\fromnumeric.py:3745: FutureWarning: The behavior of DataFrame.var with axis=None is deprecated, in a future version this will reduce over both axes and return a scalar. To retain the old behavior, pass axis=0 (or do not pass axis)\n",
      "  return var(axis=axis, dtype=dtype, out=out, ddof=ddof, **kwargs)\n"
     ]
    }
   ],
   "source": [
    "# checking scaling variance\n",
    "print(np.var(data_scaled))"
   ]
  },
  {
   "cell_type": "code",
   "execution_count": 11,
   "id": "f238c712",
   "metadata": {},
   "outputs": [
    {
     "name": "stdout",
     "output_type": "stream",
     "text": [
      "Original shape: (2362, 8)\n",
      "PCA shape     : (2362, 8)\n"
     ]
    }
   ],
   "source": [
    "# INSTANTIATING a PCA object with no limit to principal components\n",
    "pca = PCA(n_components = None,\n",
    "            random_state = 702)\n",
    "\n",
    "\n",
    "# FITTING and TRANSFORMING the scaled data\n",
    "facebook_pca = pca.fit_transform(data_scaled)\n",
    "\n",
    "\n",
    "# comparing dimensions of each DataFrame\n",
    "print(\"Original shape:\", data_scaled.shape)\n",
    "print(\"PCA shape     :\", facebook_pca.shape)"
   ]
  },
  {
   "cell_type": "code",
   "execution_count": 12,
   "id": "e8d7cbb0",
   "metadata": {},
   "outputs": [
    {
     "data": {
      "text/html": [
       "<div>\n",
       "<style scoped>\n",
       "    .dataframe tbody tr th:only-of-type {\n",
       "        vertical-align: middle;\n",
       "    }\n",
       "\n",
       "    .dataframe tbody tr th {\n",
       "        vertical-align: top;\n",
       "    }\n",
       "\n",
       "    .dataframe thead th {\n",
       "        text-align: right;\n",
       "    }\n",
       "</style>\n",
       "<table border=\"1\" class=\"dataframe\">\n",
       "  <thead>\n",
       "    <tr style=\"text-align: right;\">\n",
       "      <th></th>\n",
       "      <th>0</th>\n",
       "      <th>1</th>\n",
       "      <th>2</th>\n",
       "      <th>3</th>\n",
       "      <th>4</th>\n",
       "      <th>5</th>\n",
       "      <th>6</th>\n",
       "      <th>7</th>\n",
       "    </tr>\n",
       "  </thead>\n",
       "  <tbody>\n",
       "    <tr>\n",
       "      <th>0</th>\n",
       "      <td>-0.619670</td>\n",
       "      <td>-0.006476</td>\n",
       "      <td>0.031211</td>\n",
       "      <td>-0.028140</td>\n",
       "      <td>0.069438</td>\n",
       "      <td>0.030553</td>\n",
       "      <td>0.011254</td>\n",
       "      <td>-0.000399</td>\n",
       "    </tr>\n",
       "    <tr>\n",
       "      <th>1</th>\n",
       "      <td>-0.469623</td>\n",
       "      <td>0.126667</td>\n",
       "      <td>0.013848</td>\n",
       "      <td>-0.028868</td>\n",
       "      <td>0.082735</td>\n",
       "      <td>-0.020934</td>\n",
       "      <td>-0.053784</td>\n",
       "      <td>-0.088186</td>\n",
       "    </tr>\n",
       "    <tr>\n",
       "      <th>2</th>\n",
       "      <td>-0.469004</td>\n",
       "      <td>0.125796</td>\n",
       "      <td>0.015559</td>\n",
       "      <td>-0.028346</td>\n",
       "      <td>0.089355</td>\n",
       "      <td>-0.017813</td>\n",
       "      <td>-0.058132</td>\n",
       "      <td>-0.121798</td>\n",
       "    </tr>\n",
       "    <tr>\n",
       "      <th>3</th>\n",
       "      <td>0.367677</td>\n",
       "      <td>0.240069</td>\n",
       "      <td>-0.089732</td>\n",
       "      <td>-0.314233</td>\n",
       "      <td>0.234662</td>\n",
       "      <td>0.932251</td>\n",
       "      <td>-0.089207</td>\n",
       "      <td>-0.068756</td>\n",
       "    </tr>\n",
       "    <tr>\n",
       "      <th>4</th>\n",
       "      <td>-0.019679</td>\n",
       "      <td>-0.278149</td>\n",
       "      <td>-0.276109</td>\n",
       "      <td>0.109002</td>\n",
       "      <td>0.151739</td>\n",
       "      <td>-0.213950</td>\n",
       "      <td>-0.170986</td>\n",
       "      <td>-0.007108</td>\n",
       "    </tr>\n",
       "    <tr>\n",
       "      <th>...</th>\n",
       "      <td>...</td>\n",
       "      <td>...</td>\n",
       "      <td>...</td>\n",
       "      <td>...</td>\n",
       "      <td>...</td>\n",
       "      <td>...</td>\n",
       "      <td>...</td>\n",
       "      <td>...</td>\n",
       "    </tr>\n",
       "    <tr>\n",
       "      <th>2357</th>\n",
       "      <td>-0.430884</td>\n",
       "      <td>0.084652</td>\n",
       "      <td>-0.004706</td>\n",
       "      <td>-0.030780</td>\n",
       "      <td>-0.039773</td>\n",
       "      <td>0.007068</td>\n",
       "      <td>-0.111433</td>\n",
       "      <td>-0.051283</td>\n",
       "    </tr>\n",
       "    <tr>\n",
       "      <th>2358</th>\n",
       "      <td>-0.667096</td>\n",
       "      <td>-0.222189</td>\n",
       "      <td>0.133994</td>\n",
       "      <td>-0.100760</td>\n",
       "      <td>0.215334</td>\n",
       "      <td>-0.003407</td>\n",
       "      <td>-0.002229</td>\n",
       "      <td>-0.001872</td>\n",
       "    </tr>\n",
       "    <tr>\n",
       "      <th>2359</th>\n",
       "      <td>-0.668470</td>\n",
       "      <td>-0.228442</td>\n",
       "      <td>0.136973</td>\n",
       "      <td>-0.102865</td>\n",
       "      <td>0.219563</td>\n",
       "      <td>-0.004391</td>\n",
       "      <td>-0.002620</td>\n",
       "      <td>-0.001914</td>\n",
       "    </tr>\n",
       "    <tr>\n",
       "      <th>2360</th>\n",
       "      <td>-0.669158</td>\n",
       "      <td>-0.231568</td>\n",
       "      <td>0.138463</td>\n",
       "      <td>-0.103917</td>\n",
       "      <td>0.221677</td>\n",
       "      <td>-0.004884</td>\n",
       "      <td>-0.002815</td>\n",
       "      <td>-0.001936</td>\n",
       "    </tr>\n",
       "    <tr>\n",
       "      <th>2361</th>\n",
       "      <td>-0.667783</td>\n",
       "      <td>-0.225315</td>\n",
       "      <td>0.135484</td>\n",
       "      <td>-0.101812</td>\n",
       "      <td>0.217448</td>\n",
       "      <td>-0.003899</td>\n",
       "      <td>-0.002424</td>\n",
       "      <td>-0.001893</td>\n",
       "    </tr>\n",
       "  </tbody>\n",
       "</table>\n",
       "<p>2362 rows × 8 columns</p>\n",
       "</div>"
      ],
      "text/plain": [
       "             0         1         2         3         4         5         6  \\\n",
       "0    -0.619670 -0.006476  0.031211 -0.028140  0.069438  0.030553  0.011254   \n",
       "1    -0.469623  0.126667  0.013848 -0.028868  0.082735 -0.020934 -0.053784   \n",
       "2    -0.469004  0.125796  0.015559 -0.028346  0.089355 -0.017813 -0.058132   \n",
       "3     0.367677  0.240069 -0.089732 -0.314233  0.234662  0.932251 -0.089207   \n",
       "4    -0.019679 -0.278149 -0.276109  0.109002  0.151739 -0.213950 -0.170986   \n",
       "...        ...       ...       ...       ...       ...       ...       ...   \n",
       "2357 -0.430884  0.084652 -0.004706 -0.030780 -0.039773  0.007068 -0.111433   \n",
       "2358 -0.667096 -0.222189  0.133994 -0.100760  0.215334 -0.003407 -0.002229   \n",
       "2359 -0.668470 -0.228442  0.136973 -0.102865  0.219563 -0.004391 -0.002620   \n",
       "2360 -0.669158 -0.231568  0.138463 -0.103917  0.221677 -0.004884 -0.002815   \n",
       "2361 -0.667783 -0.225315  0.135484 -0.101812  0.217448 -0.003899 -0.002424   \n",
       "\n",
       "             7  \n",
       "0    -0.000399  \n",
       "1    -0.088186  \n",
       "2    -0.121798  \n",
       "3    -0.068756  \n",
       "4    -0.007108  \n",
       "...        ...  \n",
       "2357 -0.051283  \n",
       "2358 -0.001872  \n",
       "2359 -0.001914  \n",
       "2360 -0.001936  \n",
       "2361 -0.001893  \n",
       "\n",
       "[2362 rows x 8 columns]"
      ]
     },
     "execution_count": 12,
     "metadata": {},
     "output_type": "execute_result"
    }
   ],
   "source": [
    "pd.DataFrame(data = facebook_pca)"
   ]
  },
  {
   "cell_type": "code",
   "execution_count": 13,
   "id": "6f5ebcf3",
   "metadata": {},
   "outputs": [
    {
     "name": "stdout",
     "output_type": "stream",
     "text": [
      "PC 1: 0.409\n",
      "PC 2: 0.128\n",
      "PC 3: 0.115\n",
      "PC 4: 0.11\n",
      "PC 5: 0.1\n",
      "PC 6: 0.077\n",
      "PC 7: 0.045\n",
      "PC 8: 0.017\n"
     ]
    }
   ],
   "source": [
    "# component number counter\n",
    "component_number = 0\n",
    "\n",
    "# looping over each principal component\n",
    "for variance in pca.explained_variance_ratio_:\n",
    "    component_number += 1\n",
    "    \n",
    "    print(f\"PC {component_number}: {variance.round(3)}\")"
   ]
  },
  {
   "cell_type": "code",
   "execution_count": 20,
   "id": "ac7687ef",
   "metadata": {
    "scrolled": true
   },
   "outputs": [
    {
     "data": {
      "image/png": "[encoded data removed]",
      "text/plain": [
       "<Figure size 1000x800 with 1 Axes>"
      ]
     },
     "metadata": {},
     "output_type": "display_data"
    }
   ],
   "source": [
    "# calling the scree_plot function\n",
    "scree_plot(pca_object = pca)"
   ]
  },
  {
   "cell_type": "code",
   "execution_count": 21,
   "id": "9d0386a2",
   "metadata": {},
   "outputs": [
    {
     "data": {
      "image/png": "[encoded data removed]",
      "text/plain": [
       "<Figure size 1000x600 with 1 Axes>"
      ]
     },
     "metadata": {},
     "output_type": "display_data"
    }
   ],
   "source": [
    "# Plotting the cumulative explained variance\n",
    "plt.figure(figsize=(10, 6))\n",
    "plt.plot(np.cumsum(pca.explained_variance_ratio_))\n",
    "plt.xlabel('Number of Components')\n",
    "plt.ylabel('Cumulative Explained Variance')\n",
    "plt.title('Cumulative Explained Variance by PCA Components')\n",
    "plt.grid(True)\n",
    "plt.show()"
   ]
  },
  {
   "cell_type": "code",
   "execution_count": 15,
   "id": "5c416482",
   "metadata": {},
   "outputs": [
    {
     "name": "stdout",
     "output_type": "stream",
     "text": [
      "                 0     1     2     3     4     5     6     7\n",
      "num_comments  0.41 -0.31 -0.03 -0.20 -0.39 -0.18  0.67 -0.24\n",
      "num_shares    0.49 -0.12  0.05 -0.17 -0.21 -0.22 -0.33  0.71\n",
      "num_likes     0.16  0.73 -0.35  0.25 -0.49  0.11  0.05  0.00\n",
      "num_loves     0.50  0.00  0.06 -0.08  0.01 -0.06 -0.56 -0.65\n",
      "num_wows      0.30  0.48  0.08 -0.08  0.64 -0.42  0.29  0.04\n",
      "num_hahas     0.37  0.01 -0.05 -0.20  0.28  0.84  0.14  0.12\n",
      "num_sads      0.20 -0.35 -0.68  0.54  0.27 -0.09 -0.01  0.03\n",
      "num_angrys    0.22 -0.04  0.63  0.72 -0.04  0.11  0.11  0.04\n"
     ]
    }
   ],
   "source": [
    "# transposing pca components\n",
    "factor_loadings_df = pd.DataFrame(np.transpose(pca.components_.round(decimals = 2)))\n",
    "\n",
    "\n",
    "# naming rows as original features\n",
    "factor_loadings_df = factor_loadings_df.set_index(data_scaled.columns)\n",
    "\n",
    "\n",
    "# checking the result\n",
    "print(factor_loadings_df)"
   ]
  },
  {
   "cell_type": "markdown",
   "id": "2c986651",
   "metadata": {},
   "source": [
    "## Retained principal components"
   ]
  },
  {
   "cell_type": "code",
   "execution_count": 25,
   "id": "30c06485",
   "metadata": {},
   "outputs": [
    {
     "data": {
      "text/html": [
       "<style>#sk-container-id-3 {color: black;}#sk-container-id-3 pre{padding: 0;}#sk-container-id-3 div.sk-toggleable {background-color: white;}#sk-container-id-3 label.sk-toggleable__label {cursor: pointer;display: block;width: 100%;margin-bottom: 0;padding: 0.3em;box-sizing: border-box;text-align: center;}#sk-container-id-3 label.sk-toggleable__label-arrow:before {content: \"▸\";float: left;margin-right: 0.25em;color: #696969;}#sk-container-id-3 label.sk-toggleable__label-arrow:hover:before {color: black;}#sk-container-id-3 div.sk-estimator:hover label.sk-toggleable__label-arrow:before {color: black;}#sk-container-id-3 div.sk-toggleable__content {max-height: 0;max-width: 0;overflow: hidden;text-align: left;background-color: #f0f8ff;}#sk-container-id-3 div.sk-toggleable__content pre {margin: 0.2em;color: black;border-radius: 0.25em;background-color: #f0f8ff;}#sk-container-id-3 input.sk-toggleable__control:checked~div.sk-toggleable__content {max-height: 200px;max-width: 100%;overflow: auto;}#sk-container-id-3 input.sk-toggleable__control:checked~label.sk-toggleable__label-arrow:before {content: \"▾\";}#sk-container-id-3 div.sk-estimator input.sk-toggleable__control:checked~label.sk-toggleable__label {background-color: #d4ebff;}#sk-container-id-3 div.sk-label input.sk-toggleable__control:checked~label.sk-toggleable__label {background-color: #d4ebff;}#sk-container-id-3 input.sk-hidden--visually {border: 0;clip: rect(1px 1px 1px 1px);clip: rect(1px, 1px, 1px, 1px);height: 1px;margin: -1px;overflow: hidden;padding: 0;position: absolute;width: 1px;}#sk-container-id-3 div.sk-estimator {font-family: monospace;background-color: #f0f8ff;border: 1px dotted black;border-radius: 0.25em;box-sizing: border-box;margin-bottom: 0.5em;}#sk-container-id-3 div.sk-estimator:hover {background-color: #d4ebff;}#sk-container-id-3 div.sk-parallel-item::after {content: \"\";width: 100%;border-bottom: 1px solid gray;flex-grow: 1;}#sk-container-id-3 div.sk-label:hover label.sk-toggleable__label {background-color: #d4ebff;}#sk-container-id-3 div.sk-serial::before {content: \"\";position: absolute;border-left: 1px solid gray;box-sizing: border-box;top: 0;bottom: 0;left: 50%;z-index: 0;}#sk-container-id-3 div.sk-serial {display: flex;flex-direction: column;align-items: center;background-color: white;padding-right: 0.2em;padding-left: 0.2em;position: relative;}#sk-container-id-3 div.sk-item {position: relative;z-index: 1;}#sk-container-id-3 div.sk-parallel {display: flex;align-items: stretch;justify-content: center;background-color: white;position: relative;}#sk-container-id-3 div.sk-item::before, #sk-container-id-3 div.sk-parallel-item::before {content: \"\";position: absolute;border-left: 1px solid gray;box-sizing: border-box;top: 0;bottom: 0;left: 50%;z-index: -1;}#sk-container-id-3 div.sk-parallel-item {display: flex;flex-direction: column;z-index: 1;position: relative;background-color: white;}#sk-container-id-3 div.sk-parallel-item:first-child::after {align-self: flex-end;width: 50%;}#sk-container-id-3 div.sk-parallel-item:last-child::after {align-self: flex-start;width: 50%;}#sk-container-id-3 div.sk-parallel-item:only-child::after {width: 0;}#sk-container-id-3 div.sk-dashed-wrapped {border: 1px dashed gray;margin: 0 0.4em 0.5em 0.4em;box-sizing: border-box;padding-bottom: 0.4em;background-color: white;}#sk-container-id-3 div.sk-label label {font-family: monospace;font-weight: bold;display: inline-block;line-height: 1.2em;}#sk-container-id-3 div.sk-label-container {text-align: center;}#sk-container-id-3 div.sk-container {/* jupyter's `normalize.less` sets `[hidden] { display: none; }` but bootstrap.min.css set `[hidden] { display: none !important; }` so we also need the `!important` here to be able to override the default hidden behavior on the sphinx rendered scikit-learn.org. See: https://github.com/scikit-learn/scikit-learn/issues/21755 */display: inline-block !important;position: relative;}#sk-container-id-3 div.sk-text-repr-fallback {display: none;}</style><div id=\"sk-container-id-3\" class=\"sk-top-container\"><div class=\"sk-text-repr-fallback\"><pre>PCA(n_components=4, random_state=702)</pre><b>In a Jupyter environment, please rerun this cell to show the HTML representation or trust the notebook. <br />On GitHub, the HTML representation is unable to render, please try loading this page with nbviewer.org.</b></div><div class=\"sk-container\" hidden><div class=\"sk-item\"><div class=\"sk-estimator sk-toggleable\"><input class=\"sk-toggleable__control sk-hidden--visually\" id=\"sk-estimator-id-3\" type=\"checkbox\" checked><label for=\"sk-estimator-id-3\" class=\"sk-toggleable__label sk-toggleable__label-arrow\">PCA</label><div class=\"sk-toggleable__content\"><pre>PCA(n_components=4, random_state=702)</pre></div></div></div></div></div>"
      ],
      "text/plain": [
       "PCA(n_components=4, random_state=702)"
      ]
     },
     "execution_count": 25,
     "metadata": {},
     "output_type": "execute_result"
    }
   ],
   "source": [
    "# Instantiating a new model using the first three principal components\n",
    "pca_4 = PCA(n_components=4, random_state=702)\n",
    "\n",
    "# Fitting the PCA model to the scaled data\n",
    "pca_4.fit(data_scaled)"
   ]
  },
  {
   "cell_type": "code",
   "execution_count": 26,
   "id": "54b80e34",
   "metadata": {},
   "outputs": [
    {
     "name": "stdout",
     "output_type": "stream",
     "text": [
      "                 0     1     2     3\n",
      "num_comments  0.41 -0.31 -0.03 -0.20\n",
      "num_shares    0.49 -0.12  0.05 -0.17\n",
      "num_likes     0.16  0.73 -0.35  0.25\n",
      "num_loves     0.50  0.00  0.06 -0.08\n",
      "num_wows      0.30  0.48  0.08 -0.08\n",
      "num_hahas     0.37  0.01 -0.05 -0.20\n",
      "num_sads      0.20 -0.35 -0.68  0.54\n",
      "num_angrys    0.22 -0.04  0.63  0.72\n"
     ]
    }
   ],
   "source": [
    "#PCA Component Transposition \n",
    "# Accessing and transposing pca components\n",
    "factor_loadings_4 = pd.DataFrame(np.transpose(pca_4.components_)).round(decimals=2)\n",
    "\n",
    "# Naming rows as original features\n",
    "factor_loadings_4 = factor_loadings_4.set_index(data_scaled.columns)\n",
    "\n",
    "# Checking the result\n",
    "print(factor_loadings_4)"
   ]
  },
  {
   "cell_type": "code",
   "execution_count": 27,
   "id": "f89b9b16",
   "metadata": {},
   "outputs": [
    {
     "data": {
      "text/html": [
       "<div>\n",
       "<style scoped>\n",
       "    .dataframe tbody tr th:only-of-type {\n",
       "        vertical-align: middle;\n",
       "    }\n",
       "\n",
       "    .dataframe tbody tr th {\n",
       "        vertical-align: top;\n",
       "    }\n",
       "\n",
       "    .dataframe thead th {\n",
       "        text-align: right;\n",
       "    }\n",
       "</style>\n",
       "<table border=\"1\" class=\"dataframe\">\n",
       "  <thead>\n",
       "    <tr style=\"text-align: right;\">\n",
       "      <th></th>\n",
       "      <th>Active Interaction</th>\n",
       "      <th>Passive Endorsement</th>\n",
       "      <th>Emotional Response</th>\n",
       "      <th>Complex Engagement</th>\n",
       "    </tr>\n",
       "  </thead>\n",
       "  <tbody>\n",
       "    <tr>\n",
       "      <th>num_comments</th>\n",
       "      <td>0.41</td>\n",
       "      <td>-0.31</td>\n",
       "      <td>-0.03</td>\n",
       "      <td>-0.20</td>\n",
       "    </tr>\n",
       "    <tr>\n",
       "      <th>num_shares</th>\n",
       "      <td>0.49</td>\n",
       "      <td>-0.12</td>\n",
       "      <td>0.05</td>\n",
       "      <td>-0.17</td>\n",
       "    </tr>\n",
       "    <tr>\n",
       "      <th>num_likes</th>\n",
       "      <td>0.16</td>\n",
       "      <td>0.73</td>\n",
       "      <td>-0.35</td>\n",
       "      <td>0.25</td>\n",
       "    </tr>\n",
       "    <tr>\n",
       "      <th>num_loves</th>\n",
       "      <td>0.50</td>\n",
       "      <td>0.00</td>\n",
       "      <td>0.06</td>\n",
       "      <td>-0.08</td>\n",
       "    </tr>\n",
       "    <tr>\n",
       "      <th>num_wows</th>\n",
       "      <td>0.30</td>\n",
       "      <td>0.48</td>\n",
       "      <td>0.08</td>\n",
       "      <td>-0.08</td>\n",
       "    </tr>\n",
       "    <tr>\n",
       "      <th>num_hahas</th>\n",
       "      <td>0.37</td>\n",
       "      <td>0.01</td>\n",
       "      <td>-0.05</td>\n",
       "      <td>-0.20</td>\n",
       "    </tr>\n",
       "    <tr>\n",
       "      <th>num_sads</th>\n",
       "      <td>0.20</td>\n",
       "      <td>-0.35</td>\n",
       "      <td>-0.68</td>\n",
       "      <td>0.54</td>\n",
       "    </tr>\n",
       "    <tr>\n",
       "      <th>num_angrys</th>\n",
       "      <td>0.22</td>\n",
       "      <td>-0.04</td>\n",
       "      <td>0.63</td>\n",
       "      <td>0.72</td>\n",
       "    </tr>\n",
       "  </tbody>\n",
       "</table>\n",
       "</div>"
      ],
      "text/plain": [
       "              Active Interaction  Passive Endorsement  Emotional Response  \\\n",
       "num_comments                0.41                -0.31               -0.03   \n",
       "num_shares                  0.49                -0.12                0.05   \n",
       "num_likes                   0.16                 0.73               -0.35   \n",
       "num_loves                   0.50                 0.00                0.06   \n",
       "num_wows                    0.30                 0.48                0.08   \n",
       "num_hahas                   0.37                 0.01               -0.05   \n",
       "num_sads                    0.20                -0.35               -0.68   \n",
       "num_angrys                  0.22                -0.04                0.63   \n",
       "\n",
       "              Complex Engagement  \n",
       "num_comments               -0.20  \n",
       "num_shares                 -0.17  \n",
       "num_likes                   0.25  \n",
       "num_loves                  -0.08  \n",
       "num_wows                   -0.08  \n",
       "num_hahas                  -0.20  \n",
       "num_sads                    0.54  \n",
       "num_angrys                  0.72  "
      ]
     },
     "execution_count": 27,
     "metadata": {},
     "output_type": "execute_result"
    }
   ],
   "source": [
    "#Spectrum naming according to our interpreation looking into the max magnitudes on each column (picture attached below).\n",
    "\n",
    "# Naming each principal component\n",
    "factor_loadings_4.columns = ['Active Interaction',   \n",
    "                              'Passive Endorsement', \n",
    "                              'Emotional Response',\n",
    "                                'Complex Engagement']    \n",
    "\n",
    "# Checking the result\n",
    "factor_loadings_4"
   ]
  },
  {
   "cell_type": "markdown",
   "id": "09e8232c",
   "metadata": {},
   "source": [
    "# Clustering"
   ]
  },
  {
   "cell_type": "code",
   "execution_count": 33,
   "id": "b1e5ef63",
   "metadata": {},
   "outputs": [
    {
     "name": "stdout",
     "output_type": "stream",
     "text": [
      "0    0.015161\n",
      "1    0.122250\n",
      "2    0.123398\n",
      "3    0.114769\n",
      "4    0.124786\n",
      "5    0.124711\n",
      "6    0.121700\n",
      "7    0.125298\n",
      "dtype: float64 \n",
      "\n",
      "\n",
      "Active Interaction     1.0\n",
      "Passive Endorsement    1.0\n",
      "Emotional Response     1.0\n",
      "Complex Engagement     1.0\n",
      "dtype: float64\n"
     ]
    },
    {
     "name": "stderr",
     "output_type": "stream",
     "text": [
      "C:\\Users\\fquin\\anaconda3\\Lib\\site-packages\\numpy\\core\\fromnumeric.py:3745: FutureWarning: The behavior of DataFrame.var with axis=None is deprecated, in a future version this will reduce over both axes and return a scalar. To retain the old behavior, pass axis=0 (or do not pass axis)\n",
      "  return var(axis=axis, dtype=dtype, out=out, ddof=ddof, **kwargs)\n"
     ]
    }
   ],
   "source": [
    "# applying the unsupervised_scaler function\n",
    "pca_rescaled = standard_scaler(df = factor_loadings_4)\n",
    "\n",
    "# checking pre- and post-scaling variance\n",
    "print(np.var(factor_loadings_df), '\\n\\n')\n",
    "print(np.var(pca_rescaled))"
   ]
  },
  {
   "cell_type": "code",
   "execution_count": 34,
   "id": "d9eb38ed",
   "metadata": {},
   "outputs": [
    {
     "name": "stderr",
     "output_type": "stream",
     "text": [
      "C:\\Users\\fquin\\anaconda3\\Lib\\site-packages\\sklearn\\cluster\\_kmeans.py:1412: FutureWarning: The default value of `n_init` will change from 10 to 'auto' in 1.4. Set the value of `n_init` explicitly to suppress the warning\n",
      "  super()._check_params_vs_input(X, default_n_init=10)\n",
      "C:\\Users\\fquin\\anaconda3\\Lib\\site-packages\\sklearn\\cluster\\_kmeans.py:1436: UserWarning: KMeans is known to have a memory leak on Windows with MKL, when there are less chunks than available threads. You can avoid it by setting the environment variable OMP_NUM_THREADS=1.\n",
      "  warnings.warn(\n"
     ]
    },
    {
     "name": "stdout",
     "output_type": "stream",
     "text": [
      "For n_clusters = 2 the average silhouette_score is : 0.30727838335603574\n"
     ]
    },
    {
     "name": "stderr",
     "output_type": "stream",
     "text": [
      "C:\\Users\\fquin\\anaconda3\\Lib\\site-packages\\sklearn\\cluster\\_kmeans.py:1412: FutureWarning: The default value of `n_init` will change from 10 to 'auto' in 1.4. Set the value of `n_init` explicitly to suppress the warning\n",
      "  super()._check_params_vs_input(X, default_n_init=10)\n",
      "C:\\Users\\fquin\\anaconda3\\Lib\\site-packages\\sklearn\\cluster\\_kmeans.py:1436: UserWarning: KMeans is known to have a memory leak on Windows with MKL, when there are less chunks than available threads. You can avoid it by setting the environment variable OMP_NUM_THREADS=1.\n",
      "  warnings.warn(\n"
     ]
    },
    {
     "name": "stdout",
     "output_type": "stream",
     "text": [
      "For n_clusters = 3 the average silhouette_score is : 0.36899547709775865\n"
     ]
    },
    {
     "name": "stderr",
     "output_type": "stream",
     "text": [
      "C:\\Users\\fquin\\anaconda3\\Lib\\site-packages\\sklearn\\cluster\\_kmeans.py:1412: FutureWarning: The default value of `n_init` will change from 10 to 'auto' in 1.4. Set the value of `n_init` explicitly to suppress the warning\n",
      "  super()._check_params_vs_input(X, default_n_init=10)\n",
      "C:\\Users\\fquin\\anaconda3\\Lib\\site-packages\\sklearn\\cluster\\_kmeans.py:1436: UserWarning: KMeans is known to have a memory leak on Windows with MKL, when there are less chunks than available threads. You can avoid it by setting the environment variable OMP_NUM_THREADS=1.\n",
      "  warnings.warn(\n"
     ]
    },
    {
     "name": "stdout",
     "output_type": "stream",
     "text": [
      "For n_clusters = 4 the average silhouette_score is : 0.3822407555713468\n"
     ]
    },
    {
     "name": "stderr",
     "output_type": "stream",
     "text": [
      "C:\\Users\\fquin\\anaconda3\\Lib\\site-packages\\sklearn\\cluster\\_kmeans.py:1412: FutureWarning: The default value of `n_init` will change from 10 to 'auto' in 1.4. Set the value of `n_init` explicitly to suppress the warning\n",
      "  super()._check_params_vs_input(X, default_n_init=10)\n",
      "C:\\Users\\fquin\\anaconda3\\Lib\\site-packages\\sklearn\\cluster\\_kmeans.py:1436: UserWarning: KMeans is known to have a memory leak on Windows with MKL, when there are less chunks than available threads. You can avoid it by setting the environment variable OMP_NUM_THREADS=1.\n",
      "  warnings.warn(\n"
     ]
    },
    {
     "name": "stdout",
     "output_type": "stream",
     "text": [
      "For n_clusters = 5 the average silhouette_score is : 0.262904635861767\n"
     ]
    },
    {
     "name": "stderr",
     "output_type": "stream",
     "text": [
      "C:\\Users\\fquin\\anaconda3\\Lib\\site-packages\\sklearn\\cluster\\_kmeans.py:1412: FutureWarning: The default value of `n_init` will change from 10 to 'auto' in 1.4. Set the value of `n_init` explicitly to suppress the warning\n",
      "  super()._check_params_vs_input(X, default_n_init=10)\n",
      "C:\\Users\\fquin\\anaconda3\\Lib\\site-packages\\sklearn\\cluster\\_kmeans.py:1436: UserWarning: KMeans is known to have a memory leak on Windows with MKL, when there are less chunks than available threads. You can avoid it by setting the environment variable OMP_NUM_THREADS=1.\n",
      "  warnings.warn(\n"
     ]
    },
    {
     "name": "stdout",
     "output_type": "stream",
     "text": [
      "For n_clusters = 6 the average silhouette_score is : 0.17371091206055655\n"
     ]
    },
    {
     "name": "stderr",
     "output_type": "stream",
     "text": [
      "C:\\Users\\fquin\\anaconda3\\Lib\\site-packages\\sklearn\\cluster\\_kmeans.py:1412: FutureWarning: The default value of `n_init` will change from 10 to 'auto' in 1.4. Set the value of `n_init` explicitly to suppress the warning\n",
      "  super()._check_params_vs_input(X, default_n_init=10)\n",
      "C:\\Users\\fquin\\anaconda3\\Lib\\site-packages\\sklearn\\cluster\\_kmeans.py:1436: UserWarning: KMeans is known to have a memory leak on Windows with MKL, when there are less chunks than available threads. You can avoid it by setting the environment variable OMP_NUM_THREADS=1.\n",
      "  warnings.warn(\n"
     ]
    },
    {
     "name": "stdout",
     "output_type": "stream",
     "text": [
      "For n_clusters = 7 the average silhouette_score is : 0.13946514289621292\n"
     ]
    }
   ],
   "source": [
    "from sklearn.metrics import silhouette_score\n",
    "\n",
    "# Assuming `pca_rescaled` is your data\n",
    "for n_clusters in range(2, 8):  # Example range\n",
    "    kmeans = KMeans(n_clusters=n_clusters, random_state=702)\n",
    "    kmeans.fit(pca_rescaled)\n",
    "    silhouette_avg = silhouette_score(pca_rescaled, kmeans.labels_)\n",
    "    print(\"For n_clusters =\", n_clusters, \"the average silhouette_score is :\", silhouette_avg)"
   ]
  },
  {
   "cell_type": "code",
   "execution_count": 35,
   "id": "895b05e4",
   "metadata": {},
   "outputs": [
    {
     "name": "stdout",
     "output_type": "stream",
     "text": [
      "Cluster\n",
      "0    4\n",
      "1    2\n",
      "3    1\n",
      "2    1\n",
      "Name: count, dtype: int64\n"
     ]
    },
    {
     "name": "stderr",
     "output_type": "stream",
     "text": [
      "C:\\Users\\fquin\\anaconda3\\Lib\\site-packages\\sklearn\\cluster\\_kmeans.py:1436: UserWarning: KMeans is known to have a memory leak on Windows with MKL, when there are less chunks than available threads. You can avoid it by setting the environment variable OMP_NUM_THREADS=1.\n",
      "  warnings.warn(\n"
     ]
    }
   ],
   "source": [
    "#Clustering\n",
    "# INSTANTIATING a k-Means object:\n",
    "customers_k_pca = KMeans(n_clusters   = 4     ,\n",
    "                        n_init       = 'auto',\n",
    "                        random_state = 702   )\n",
    "\n",
    "\n",
    "# fitting the object to the data\n",
    "customers_k_pca.fit(pca_rescaled)\n",
    "\n",
    "\n",
    "# converting the clusters to a DataFrame\n",
    "customers_kmeans_pca = pd.DataFrame(data = {'Cluster': customers_k_pca.labels_})\n",
    "\n",
    "\n",
    "# checking the results\n",
    "print(customers_kmeans_pca.iloc[: , 0].value_counts())"
   ]
  },
  {
   "cell_type": "code",
   "execution_count": 36,
   "id": "d8585560",
   "metadata": {},
   "outputs": [
    {
     "data": {
      "text/html": [
       "<div>\n",
       "<style scoped>\n",
       "    .dataframe tbody tr th:only-of-type {\n",
       "        vertical-align: middle;\n",
       "    }\n",
       "\n",
       "    .dataframe tbody tr th {\n",
       "        vertical-align: top;\n",
       "    }\n",
       "\n",
       "    .dataframe thead th {\n",
       "        text-align: right;\n",
       "    }\n",
       "</style>\n",
       "<table border=\"1\" class=\"dataframe\">\n",
       "  <thead>\n",
       "    <tr style=\"text-align: right;\">\n",
       "      <th></th>\n",
       "      <th>Active Interaction</th>\n",
       "      <th>Passive Endorsement</th>\n",
       "      <th>Emotional Response</th>\n",
       "      <th>Complex Engagement</th>\n",
       "    </tr>\n",
       "  </thead>\n",
       "  <tbody>\n",
       "    <tr>\n",
       "      <th>0</th>\n",
       "      <td>0.90</td>\n",
       "      <td>-0.44</td>\n",
       "      <td>0.12</td>\n",
       "      <td>-0.77</td>\n",
       "    </tr>\n",
       "    <tr>\n",
       "      <th>1</th>\n",
       "      <td>-0.82</td>\n",
       "      <td>1.59</td>\n",
       "      <td>-0.28</td>\n",
       "      <td>-0.04</td>\n",
       "    </tr>\n",
       "    <tr>\n",
       "      <th>2</th>\n",
       "      <td>-0.90</td>\n",
       "      <td>-0.26</td>\n",
       "      <td>1.90</td>\n",
       "      <td>1.84</td>\n",
       "    </tr>\n",
       "    <tr>\n",
       "      <th>3</th>\n",
       "      <td>-1.07</td>\n",
       "      <td>-1.14</td>\n",
       "      <td>-1.83</td>\n",
       "      <td>1.31</td>\n",
       "    </tr>\n",
       "  </tbody>\n",
       "</table>\n",
       "</div>"
      ],
      "text/plain": [
       "   Active Interaction  Passive Endorsement  Emotional Response  \\\n",
       "0                0.90                -0.44                0.12   \n",
       "1               -0.82                 1.59               -0.28   \n",
       "2               -0.90                -0.26                1.90   \n",
       "3               -1.07                -1.14               -1.83   \n",
       "\n",
       "   Complex Engagement  \n",
       "0               -0.77  \n",
       "1               -0.04  \n",
       "2                1.84  \n",
       "3                1.31  "
      ]
     },
     "execution_count": 36,
     "metadata": {},
     "output_type": "execute_result"
    }
   ],
   "source": [
    "# storing cluster centers\n",
    "centroids_pca = customers_k_pca.cluster_centers_\n",
    "\n",
    "\n",
    "# converting cluster centers into a DataFrame\n",
    "centroids_pca_df = pd.DataFrame(data = centroids_pca).round(decimals = 2)\n",
    "\n",
    "\n",
    "# renaming principal components\n",
    "centroids_pca_df.columns = ['Active Interaction',   \n",
    "                              'Passive Endorsement', \n",
    "                              'Emotional Response',\n",
    "                                'Complex Engagement'] \n",
    "\n",
    "# checking results (clusters = rows, pc = columns)\n",
    "centroids_pca_df.round(decimals = 2)"
   ]
  },
  {
   "cell_type": "markdown",
   "id": "64ffa8d2",
   "metadata": {},
   "source": [
    "# Modeling"
   ]
  },
  {
   "cell_type": "code",
   "execution_count": 37,
   "id": "c50c24a0",
   "metadata": {},
   "outputs": [],
   "source": [
    "facebook['is_photo'] = facebook['status_type'].apply(lambda x: 1 if x == 'photo' else 0)"
   ]
  },
  {
   "cell_type": "code",
   "execution_count": 38,
   "id": "15a8a382",
   "metadata": {},
   "outputs": [
    {
     "data": {
      "text/html": [
       "<div>\n",
       "<style scoped>\n",
       "    .dataframe tbody tr th:only-of-type {\n",
       "        vertical-align: middle;\n",
       "    }\n",
       "\n",
       "    .dataframe tbody tr th {\n",
       "        vertical-align: top;\n",
       "    }\n",
       "\n",
       "    .dataframe thead th {\n",
       "        text-align: right;\n",
       "    }\n",
       "</style>\n",
       "<table border=\"1\" class=\"dataframe\">\n",
       "  <thead>\n",
       "    <tr style=\"text-align: right;\">\n",
       "      <th></th>\n",
       "      <th>status_id</th>\n",
       "      <th>status_type</th>\n",
       "      <th>time_published</th>\n",
       "      <th>num_comments</th>\n",
       "      <th>num_shares</th>\n",
       "      <th>num_likes</th>\n",
       "      <th>num_loves</th>\n",
       "      <th>num_wows</th>\n",
       "      <th>num_hahas</th>\n",
       "      <th>num_sads</th>\n",
       "      <th>num_angrys</th>\n",
       "      <th>is_photo</th>\n",
       "    </tr>\n",
       "  </thead>\n",
       "  <tbody>\n",
       "    <tr>\n",
       "      <th>0</th>\n",
       "      <td>1</td>\n",
       "      <td>photo</td>\n",
       "      <td>2023-07-04 22:45:00</td>\n",
       "      <td>0</td>\n",
       "      <td>0</td>\n",
       "      <td>150</td>\n",
       "      <td>0</td>\n",
       "      <td>0</td>\n",
       "      <td>0</td>\n",
       "      <td>0</td>\n",
       "      <td>0</td>\n",
       "      <td>1</td>\n",
       "    </tr>\n",
       "    <tr>\n",
       "      <th>1</th>\n",
       "      <td>2</td>\n",
       "      <td>photo</td>\n",
       "      <td>2023-06-23 01:01:00</td>\n",
       "      <td>2</td>\n",
       "      <td>3</td>\n",
       "      <td>202</td>\n",
       "      <td>7</td>\n",
       "      <td>1</td>\n",
       "      <td>0</td>\n",
       "      <td>0</td>\n",
       "      <td>0</td>\n",
       "      <td>1</td>\n",
       "    </tr>\n",
       "    <tr>\n",
       "      <th>2</th>\n",
       "      <td>3</td>\n",
       "      <td>photo</td>\n",
       "      <td>2023-06-21 02:23:00</td>\n",
       "      <td>4</td>\n",
       "      <td>0</td>\n",
       "      <td>200</td>\n",
       "      <td>8</td>\n",
       "      <td>1</td>\n",
       "      <td>0</td>\n",
       "      <td>0</td>\n",
       "      <td>0</td>\n",
       "      <td>1</td>\n",
       "    </tr>\n",
       "    <tr>\n",
       "      <th>3</th>\n",
       "      <td>4</td>\n",
       "      <td>video</td>\n",
       "      <td>2023-06-14 05:16:00</td>\n",
       "      <td>100</td>\n",
       "      <td>30</td>\n",
       "      <td>303</td>\n",
       "      <td>23</td>\n",
       "      <td>1</td>\n",
       "      <td>5</td>\n",
       "      <td>0</td>\n",
       "      <td>0</td>\n",
       "      <td>0</td>\n",
       "    </tr>\n",
       "    <tr>\n",
       "      <th>4</th>\n",
       "      <td>5</td>\n",
       "      <td>video</td>\n",
       "      <td>2023-06-08 08:28:00</td>\n",
       "      <td>173</td>\n",
       "      <td>47</td>\n",
       "      <td>132</td>\n",
       "      <td>16</td>\n",
       "      <td>1</td>\n",
       "      <td>0</td>\n",
       "      <td>1</td>\n",
       "      <td>0</td>\n",
       "      <td>0</td>\n",
       "    </tr>\n",
       "  </tbody>\n",
       "</table>\n",
       "</div>"
      ],
      "text/plain": [
       "   status_id status_type      time_published  num_comments  num_shares  \\\n",
       "0          1       photo 2023-07-04 22:45:00             0           0   \n",
       "1          2       photo 2023-06-23 01:01:00             2           3   \n",
       "2          3       photo 2023-06-21 02:23:00             4           0   \n",
       "3          4       video 2023-06-14 05:16:00           100          30   \n",
       "4          5       video 2023-06-08 08:28:00           173          47   \n",
       "\n",
       "   num_likes  num_loves  num_wows  num_hahas  num_sads  num_angrys  is_photo  \n",
       "0        150          0         0          0         0           0         1  \n",
       "1        202          7         1          0         0           0         1  \n",
       "2        200          8         1          0         0           0         1  \n",
       "3        303         23         1          5         0           0         0  \n",
       "4        132         16         1          0         1           0         0  "
      ]
     },
     "execution_count": 38,
     "metadata": {},
     "output_type": "execute_result"
    }
   ],
   "source": [
    "facebook.head(n=5)"
   ]
  },
  {
   "cell_type": "markdown",
   "id": "7d5bc8e0",
   "metadata": {},
   "source": [
    "## Model 1 - Original X-features"
   ]
  },
  {
   "cell_type": "code",
   "execution_count": 39,
   "id": "0ad6312e",
   "metadata": {},
   "outputs": [],
   "source": [
    "# Selecting x- and y-data\n",
    "x_features = ['num_comments','num_shares', 'num_likes', 'num_loves', \n",
    "            'num_wows', 'num_hahas', 'num_sads', 'num_angrys']"
   ]
  },
  {
   "cell_type": "code",
   "execution_count": 40,
   "id": "38e15019",
   "metadata": {},
   "outputs": [],
   "source": [
    "# selecting x- and y-data\n",
    "x_data = facebook[x_features]\n",
    "y_data = facebook[\"is_photo\"]\n",
    "\n",
    "\n",
    "# training and testing sets\n",
    "x_train, x_test, y_train, y_test = train_test_split(x_data,\n",
    "                                                    y_data,\n",
    "                                                    test_size    = 0.25,\n",
    "                                                    random_state = 702,\n",
    "                                                    stratify     = y_data)"
   ]
  },
  {
   "cell_type": "code",
   "execution_count": 41,
   "id": "bec34966",
   "metadata": {},
   "outputs": [
    {
     "name": "stdout",
     "output_type": "stream",
     "text": [
      "\n",
      "Train-Test Gap: 0.017\n",
      "Test AUC Score: 0.678\n",
      "\n"
     ]
    }
   ],
   "source": [
    "# INSTANTIATING a logistic regression model\n",
    "model = sklearn.linear_model.LogisticRegression(solver       = 'lbfgs',\n",
    "                                                C            = 1,\n",
    "                                                random_state = 702)\n",
    "\n",
    "\n",
    "# FITTING the training data\n",
    "model_fit = model.fit(x_train, y_train)\n",
    "\n",
    "\n",
    "# PREDICTING based on the testing set\n",
    "model_pred = model_fit.predict(x_test) # predict_proba for multiclass\n",
    "\n",
    "\n",
    "# checking results\n",
    "train_acc = model_fit.score(x_train, y_train)\n",
    "test_acc  = model_fit.score(x_test , y_test )\n",
    "roc_score = roc_auc_score  (y_true      = y_test,\n",
    "                            y_score     = model_pred)\n",
    "\n",
    "\n",
    "print(f\"\"\"\n",
    "Train-Test Gap: {round(abs(train_acc - test_acc), ndigits = 3)}\n",
    "Test AUC Score: {roc_score.round(decimals = 3)}\n",
    "\"\"\")"
   ]
  },
  {
   "cell_type": "code",
   "execution_count": 42,
   "id": "8a7a1039",
   "metadata": {},
   "outputs": [
    {
     "name": "stdout",
     "output_type": "stream",
     "text": [
      "\n",
      "Accuracy: 0.739\n",
      "Precision: 0.714\n",
      "True Negatives : 92\n",
      "False Positives: 138\n",
      "False Negatives: 16\n",
      "True Positives : 345\n",
      "\n"
     ]
    }
   ],
   "source": [
    "# unpacking the confusion matrix\n",
    "model_tn, \\\n",
    "model_fp, \\\n",
    "model_fn, \\\n",
    "model_tp = confusion_matrix(y_true = y_test, y_pred = model_pred).ravel()\n",
    "\n",
    "# Calculating accuracy and precision\n",
    "accuracy = accuracy_score(y_true=y_test, y_pred=model_pred)\n",
    "precision = precision_score(y_true=y_test, y_pred=model_pred)\n",
    "\n",
    "# printing each result one-by-one\n",
    "print(f\"\"\"\n",
    "Accuracy: {accuracy.round(decimals=3)}\n",
    "Precision: {precision.round(decimals=3)}\n",
    "True Negatives : {model_tn}\n",
    "False Positives: {model_fp}\n",
    "False Negatives: {model_fn}\n",
    "True Positives : {model_tp}\n",
    "\"\"\")"
   ]
  },
  {
   "cell_type": "markdown",
   "id": "9ff29508",
   "metadata": {},
   "source": [
    "## Model 2 - Retained Principal Components"
   ]
  },
  {
   "cell_type": "code",
   "execution_count": 45,
   "id": "d9e6f329",
   "metadata": {},
   "outputs": [],
   "source": [
    "# subsetting continuous data\n",
    "facebook_continuous = facebook[ ['num_comments','num_shares', 'num_likes', 'num_loves', \n",
    "                                 'num_wows', 'num_hahas', 'num_sads', 'num_angrys'] ]\n",
    "\n",
    "\n",
    "# scaling the data\n",
    "data_scaled = standard_scaler(df = facebook_continuous)"
   ]
  },
  {
   "cell_type": "code",
   "execution_count": 46,
   "id": "0809b48b",
   "metadata": {},
   "outputs": [],
   "source": [
    "# Instantiating a new model using the first three principal components\n",
    "pca_4 = PCA(n_components=4, random_state=702)\n",
    "\n",
    "# Fitting the PCA model to the scaled data\n",
    "facebook_pca = pca_4.fit_transform(data_scaled)"
   ]
  },
  {
   "cell_type": "code",
   "execution_count": 47,
   "id": "efa0adfb",
   "metadata": {},
   "outputs": [],
   "source": [
    "# selecting x- and y-data\n",
    "x_data = facebook_pca \n",
    "y_data = facebook[\"is_photo\"]\n",
    "\n",
    "\n",
    "# training and testing sets\n",
    "x_train, x_test, y_train, y_test = train_test_split(x_data,\n",
    "                                                    y_data,\n",
    "                                                    test_size    = 0.25,\n",
    "                                                    random_state = 702,\n",
    "                                                    stratify     = y_data)"
   ]
  },
  {
   "cell_type": "code",
   "execution_count": 48,
   "id": "27ff5d0f",
   "metadata": {},
   "outputs": [
    {
     "name": "stdout",
     "output_type": "stream",
     "text": [
      "\n",
      "Train-Test Gap: 0.006\n",
      "Test AUC Score: 0.67\n",
      "\n"
     ]
    }
   ],
   "source": [
    "# INSTANTIATING a logistic regression model\n",
    "model = sklearn.linear_model.LogisticRegression(solver       = 'lbfgs',\n",
    "                                                C            = 1,\n",
    "                                                random_state = 702)\n",
    "\n",
    "\n",
    "# FITTING the training data\n",
    "model_fit = model.fit(x_train, y_train)\n",
    "\n",
    "\n",
    "# PREDICTING based on the testing set\n",
    "model_pred = model_fit.predict(x_test) # predict_proba for multiclass\n",
    "\n",
    "\n",
    "# checking results\n",
    "train_acc = model_fit.score(x_train, y_train)\n",
    "test_acc  = model_fit.score(x_test , y_test )\n",
    "roc_score = roc_auc_score  (y_true      = y_test,\n",
    "                            y_score     = model_pred)\n",
    "\n",
    "\n",
    "print(f\"\"\"\n",
    "Train-Test Gap: {round(abs(train_acc - test_acc), ndigits = 3)}\n",
    "Test AUC Score: {roc_score.round(decimals = 3)}\n",
    "\"\"\")"
   ]
  },
  {
   "cell_type": "code",
   "execution_count": 49,
   "id": "225ff786",
   "metadata": {},
   "outputs": [
    {
     "name": "stdout",
     "output_type": "stream",
     "text": [
      "\n",
      "Accuracy: 0.736\n",
      "Precision: 0.708\n",
      "True Negatives : 86\n",
      "False Positives: 144\n",
      "False Negatives: 12\n",
      "True Positives : 349\n",
      "\n"
     ]
    }
   ],
   "source": [
    "# unpacking the confusion matrix\n",
    "model_tn, \\\n",
    "model_fp, \\\n",
    "model_fn, \\\n",
    "model_tp = confusion_matrix(y_true = y_test, y_pred = model_pred).ravel()\n",
    "\n",
    "# Calculating accuracy and precision\n",
    "accuracy = accuracy_score(y_true=y_test, y_pred=model_pred)\n",
    "precision = precision_score(y_true=y_test, y_pred=model_pred)\n",
    "\n",
    "# printing each result one-by-one\n",
    "print(f\"\"\"\n",
    "Accuracy: {accuracy.round(decimals=3)}\n",
    "Precision: {precision.round(decimals=3)}\n",
    "True Negatives : {model_tn}\n",
    "False Positives: {model_fp}\n",
    "False Negatives: {model_fn}\n",
    "True Positives : {model_tp}\n",
    "\"\"\")"
   ]
  },
  {
   "cell_type": "markdown",
   "id": "52071849",
   "metadata": {},
   "source": [
    "## Model 3 - Retained clusters"
   ]
  },
  {
   "cell_type": "code",
   "execution_count": 51,
   "id": "047b2799",
   "metadata": {},
   "outputs": [
    {
     "name": "stdout",
     "output_type": "stream",
     "text": [
      "Cluster\n",
      "1    2108\n",
      "0     135\n",
      "3     117\n",
      "2       2\n",
      "Name: count, dtype: int64\n"
     ]
    }
   ],
   "source": [
    "# standardizing the data for clustering\n",
    "pca_rescaled = standard_scaler(df = pd.DataFrame(data = facebook_pca))\n",
    "\n",
    "\n",
    "# INSTANTIATING a k-Means object with clusters\n",
    "customers_k_pca = KMeans(n_clusters   = 4 ,\n",
    "                         n_init       = 'auto',\n",
    "                         random_state = 702   )\n",
    "\n",
    "\n",
    "# fitting the object to the data\n",
    "customers_k_pca.fit(pca_rescaled)\n",
    "\n",
    "\n",
    "# converting the clusters to a DataFrame\n",
    "customers_kmeans_pca = pd.DataFrame({'Cluster': customers_k_pca.labels_})\n",
    "\n",
    "\n",
    "# checking cluster populations\n",
    "print(customers_kmeans_pca.iloc[: , 0].value_counts())"
   ]
  },
  {
   "cell_type": "code",
   "execution_count": 52,
   "id": "ebfe5e70",
   "metadata": {},
   "outputs": [
    {
     "data": {
      "text/plain": [
       "1  2  3\n",
       "1  0  0    2108\n",
       "0  1  0       2\n",
       "   0  1     117\n",
       "      0     135\n",
       "Name: count, dtype: int64"
      ]
     },
     "execution_count": 52,
     "metadata": {},
     "output_type": "execute_result"
    }
   ],
   "source": [
    "# factorizing cluster results \n",
    "cluster_df = pd.get_dummies(data       = customers_kmeans_pca['Cluster'],\n",
    "                            drop_first = True).astype(dtype = int)\n",
    "\n",
    "\n",
    "# checking results\n",
    "cluster_df.value_counts(normalize = False).sort_index(ascending = False)"
   ]
  },
  {
   "cell_type": "code",
   "execution_count": 53,
   "id": "024ff30b",
   "metadata": {},
   "outputs": [],
   "source": [
    "# selecting x- and y-data\n",
    "x_data = cluster_df\n",
    "y_data = facebook['is_photo']\n",
    "\n",
    "\n",
    "# training and testing sets\n",
    "x_train, x_test, y_train, y_test = train_test_split(x_data,\n",
    "                                                    y_data,\n",
    "                                                    test_size    = 0.25,\n",
    "                                                    random_state = 702,\n",
    "                                                    stratify     = y_data)"
   ]
  },
  {
   "cell_type": "code",
   "execution_count": 54,
   "id": "aec1d741",
   "metadata": {},
   "outputs": [
    {
     "name": "stdout",
     "output_type": "stream",
     "text": [
      "\n",
      "Train-Test Gap: 0.011\n",
      "Test AUC Score: 0.552\n",
      "\n"
     ]
    }
   ],
   "source": [
    "# INSTANTIATING a logistic regression model\n",
    "model = sklearn.linear_model.LogisticRegression(solver       = 'lbfgs',\n",
    "                                                C            = 1,\n",
    "                                                random_state = 702)\n",
    "\n",
    "\n",
    "# FITTING the training data\n",
    "model_fit = model.fit(x_train, y_train)\n",
    "\n",
    "\n",
    "# PREDICTING based on the testing set\n",
    "model_pred = model_fit.predict(x_test) # predict_proba for multiclass\n",
    "\n",
    "\n",
    "# checking results\n",
    "train_acc = model_fit.score(x_train, y_train)\n",
    "test_acc  = model_fit.score(x_test , y_test )\n",
    "roc_score = roc_auc_score  (y_true  = y_test,\n",
    "                            y_score = model_pred)\n",
    "\n",
    "\n",
    "print(f\"\"\"\n",
    "Train-Test Gap: {round(abs(train_acc - test_acc), ndigits = 3)}\n",
    "Test AUC Score: {round(roc_score, ndigits = 3)}\n",
    "\"\"\")"
   ]
  },
  {
   "cell_type": "code",
   "execution_count": 55,
   "id": "240eee6c",
   "metadata": {},
   "outputs": [
    {
     "data": {
      "text/html": [
       "<div>\n",
       "<style scoped>\n",
       "    .dataframe tbody tr th:only-of-type {\n",
       "        vertical-align: middle;\n",
       "    }\n",
       "\n",
       "    .dataframe tbody tr th {\n",
       "        vertical-align: top;\n",
       "    }\n",
       "\n",
       "    .dataframe thead th {\n",
       "        text-align: right;\n",
       "    }\n",
       "</style>\n",
       "<table border=\"1\" class=\"dataframe\">\n",
       "  <thead>\n",
       "    <tr style=\"text-align: right;\">\n",
       "      <th></th>\n",
       "      <th>0</th>\n",
       "      <th>1</th>\n",
       "      <th>2</th>\n",
       "      <th>3</th>\n",
       "    </tr>\n",
       "  </thead>\n",
       "  <tbody>\n",
       "    <tr>\n",
       "      <th>0</th>\n",
       "      <td>0.21</td>\n",
       "      <td>2.54</td>\n",
       "      <td>-1.58</td>\n",
       "      <td>1.10</td>\n",
       "    </tr>\n",
       "    <tr>\n",
       "      <th>1</th>\n",
       "      <td>-0.21</td>\n",
       "      <td>-0.12</td>\n",
       "      <td>0.08</td>\n",
       "      <td>-0.06</td>\n",
       "    </tr>\n",
       "    <tr>\n",
       "      <th>2</th>\n",
       "      <td>3.26</td>\n",
       "      <td>-0.99</td>\n",
       "      <td>18.06</td>\n",
       "      <td>21.39</td>\n",
       "    </tr>\n",
       "    <tr>\n",
       "      <th>3</th>\n",
       "      <td>3.51</td>\n",
       "      <td>-0.75</td>\n",
       "      <td>0.13</td>\n",
       "      <td>-0.54</td>\n",
       "    </tr>\n",
       "  </tbody>\n",
       "</table>\n",
       "</div>"
      ],
      "text/plain": [
       "      0     1      2      3\n",
       "0  0.21  2.54  -1.58   1.10\n",
       "1 -0.21 -0.12   0.08  -0.06\n",
       "2  3.26 -0.99  18.06  21.39\n",
       "3  3.51 -0.75   0.13  -0.54"
      ]
     },
     "execution_count": 55,
     "metadata": {},
     "output_type": "execute_result"
    }
   ],
   "source": [
    "# storing cluster centers\n",
    "centroids_pca = pd.DataFrame(data = customers_k_pca.cluster_centers_)\n",
    "\n",
    "\n",
    "# checking cluster centers\n",
    "centroids_pca.round(decimals = 2)"
   ]
  },
  {
   "cell_type": "code",
   "execution_count": 56,
   "id": "dfe8065a",
   "metadata": {},
   "outputs": [
    {
     "name": "stdout",
     "output_type": "stream",
     "text": [
      "\n",
      "Accuracy: 0.65\n",
      "Precision: 0.637\n",
      "True Negatives : 26\n",
      "False Positives: 204\n",
      "False Negatives: 3\n",
      "True Positives : 358\n",
      "\n"
     ]
    }
   ],
   "source": [
    "# unpacking the confusion matrix\n",
    "model_tn, \\\n",
    "model_fp, \\\n",
    "model_fn, \\\n",
    "model_tp = confusion_matrix(y_true = y_test, y_pred = model_pred).ravel()\n",
    "\n",
    "# Calculating accuracy and precision\n",
    "accuracy = accuracy_score(y_true=y_test, y_pred=model_pred)\n",
    "precision = precision_score(y_true=y_test, y_pred=model_pred)\n",
    "\n",
    "# printing each result one-by-one\n",
    "print(f\"\"\"\n",
    "Accuracy: {accuracy.round(decimals=3)}\n",
    "Precision: {precision.round(decimals=3)}\n",
    "True Negatives : {model_tn}\n",
    "False Positives: {model_fp}\n",
    "False Negatives: {model_fn}\n",
    "True Positives : {model_tp}\n",
    "\"\"\")"
   ]
  },
  {
   "cell_type": "markdown",
   "id": "c49ab7ed",
   "metadata": {},
   "source": [
    "_____________________________________________________________________________________"
   ]
  },
  {
   "cell_type": "markdown",
   "id": "09caaf50",
   "metadata": {},
   "source": [
    "# Analysis"
   ]
  },
  {
   "cell_type": "markdown",
   "id": "a33159a5",
   "metadata": {},
   "source": [
    "In today's digital era, the dynamics of user engagement on social media platforms like Facebook play a crucial role in determining the effectiveness of content shared by sellers, particularly in live environments (1). \n",
    "\n",
    "The adoption of Facebook Live as a strategic tool for real-time interaction offers an invaluable opportunity to analyze engagement patterns. This analysis aims to provide insights into how different types of content perform, with a special focus on the role of photos. By employing a robust dataset on usage and engagement patterns for Facebook Live sellers in Thailand, this study seeks to identify the characteristics of content that maximize viewer interaction and participation. Understanding these patterns not only helps in crafting better content strategies but also enhances the interaction between sellers and potential customers, thereby potentially boosting sales and viewer retention.\n",
    "\n",
    "\n",
    "The primary focus of this analysis is to understand the engagement levels associated with different types of content posted by Facebook Live sellers in Thailand. Specifically, the analysis will explore how photos compare with other content types in terms of eliciting reactions such as likes, loves, and other forms of engagement. By employing statistical and machine learning techniques, including principal component analysis and logistic regression, this study will dissect the nuances of user interaction across different content formats. Additionally, the investigation will extend to assessing the impact of specific reactions on the overall engagement of the content, providing a comprehensive overview of engagement strategies in the digital selling space."
   ]
  },
  {
   "cell_type": "markdown",
   "id": "31b30fa1",
   "metadata": {},
   "source": [
    "## Perfomance of analysis reaction"
   ]
  },
  {
   "attachments": {
    "engagement.png": {
     "image/png": "[encoded data removed]"
    }
   },
   "cell_type": "markdown",
   "id": "d2ca7d2e",
   "metadata": {},
   "source": [
    "Summarize the total engagements for photos versus other content types:\n",
    "\n",
    "- Comments and Shares: Non-photo content generates significantly more comments and shares compared to photos, indicating higher discussion and sharing activity.\n",
    "\n",
    "- Likes and Loves: While photos receive a decent number of likes, they lag considerably behind other content types in terms of loves, suggesting that non-photo content may evoke stronger affection or appreciation.\n",
    "\n",
    "- Wows, Hahas, Sads, and Angrys: These reactions are less frequent for photos than for other content types, indicating that photos might be less polarizing or evoke less intense emotional reactions.\n",
    "\n",
    "\n",
    "These findings suggest that while photos are good at generating likes, other forms of content (like videos or statuses) might be better at driving deeper or more varied forms of engagement like comments and shares. This can be particularly important for strategies that aim to maximize viewer interaction and engagement depth.\n",
    "\n",
    "\n",
    "![engagement.png](attachment:engagement.png)\n",
    "\n",
    "\n",
    "\n",
    "- Higher Engagement for Non-Photo Content: Non-photo content tends to generate substantially higher engagement in terms of comments, shares, loves, and even reactive metrics like wows, hahas, sads, and angry reactions.\n",
    "\n",
    "\n",
    "- Likes: Photos, while still effective at gathering likes, do not outperform other content types significantly in this metric either."
   ]
  },
  {
   "cell_type": "markdown",
   "id": "139477f9",
   "metadata": {},
   "source": [
    "## PCA"
   ]
  },
  {
   "cell_type": "markdown",
   "id": "eca290d2",
   "metadata": {},
   "source": [
    "We defined our 4 PCA components from using not only the elbow method from scree plot above, plus the rationale for getting the most possible to explain a good amount of variance (70%-80%):\n",
    "\n",
    "1. Cumulative Variance: The first 4 components cumulatively explain a significant portion of the variance (70%-80%), making them suitable for most analytical purposes.\n",
    "    \n",
    "2. Interpretability: Retaining 4 components strikes a balance between maximizing explained variance and maintaining interpretability of the data.\n",
    "    \n",
    "3. Dimensionality Reduction: Choosing 4 components substantially reduces the dimensionality of the dataset while retaining much of the information."
   ]
  },
  {
   "attachments": {
    "Interpretations%20loadings-2.png": {
     "image/png": "[encoded data removed]"
    }
   },
   "cell_type": "markdown",
   "id": "9ac01916",
   "metadata": {},
   "source": [
    "**Factor Loadings for the First Three Principal Components**\n",
    "\n",
    "![Interpretations%20loadings-2.png](attachment:Interpretations%20loadings-2.png)"
   ]
  },
  {
   "cell_type": "markdown",
   "id": "cbe6a15f",
   "metadata": {},
   "source": [
    "**Interpretation from the 4 Principal Components**\n",
    "\n",
    "\n",
    "### PC0: Active Interaction\n",
    "Reflects the level of user engagement through actions such as comments and shares. Higher values indicate content that likely spurs conversation and peer-to-peer interaction, which could be associated with increased social proof and potentially influence purchase behavior. Conversely, lower values may represent a lack of user interaction, suggesting that the content or the product it represents might not resonate with the audience, potentially impacting sales negatively.\n",
    "\n",
    "### PC1: Passive Endorsement\n",
    "Captures the general sentiment of approval with passive actions like 'likes'. It signifies broad content acceptance which might correlate with steady, low-effort consumer purchases. In contrast, lower scores on this component could indicate content that does not stand out to the audience, possibly affecting spontaneous buying interest.\n",
    "\n",
    "### PC2: Emotional Response\n",
    "Indicates the degree of emotional engagement provoked by the content, primarily through 'angry' and 'sad' reactions. High scores on this component may relate to purchases driven by strong emotions, whether positive (solidarity purchases) or negative (boycotts). Low scores might reflect content that evokes empathy, potentially influencing purchases made to support a cause.\n",
    "\n",
    "### PC3: Complex Engagement\n",
    "Reflects nuanced forms of engagement such as surprise or humor ('wow' and 'haha' reactions). High values may suggest that the content has a novelty factor or a humorous appeal, potentially leading to purchases for the experience associated with the product. Lower values could indicate that the content is more straightforward, likely resulting in purchases driven by practical needs rather than emotional or experiential factors."
   ]
  },
  {
   "cell_type": "markdown",
   "id": "95f4062e",
   "metadata": {},
   "source": [
    "## Clustering"
   ]
  },
  {
   "cell_type": "markdown",
   "id": "1395506a",
   "metadata": {},
   "source": [
    "### Determining the Number of Clusters\n",
    "By examining silhouette scores, which assess how similar an object is to its own cluster versus others, we found:\n",
    "- 2 clusters: 0.307\n",
    "- 3 clusters: 0.369\n",
    "- 4 clusters: 0.382\n",
    "- 5 clusters: 0.263\n",
    "- 6 clusters: 0.174\n",
    "- 7 clusters: 0.139\n",
    "\n",
    "The silhouette score peaks at 0.382 for four clusters, suggesting this as the ideal cluster count for maximum distinction and separation.\n",
    "\n",
    "### Cluster Characteristics\n",
    "The four clusters are characterized by the centroids (average values for each component within the cluster) as follows:\n",
    "\n",
    "- **Cluster 0** shows high Active Interaction, indicating posts that prompt users to actively engage and possibly influence purchasing decisions.\n",
    "- **Cluster 1** is defined by high Passive Endorsement, which may reflect a broad but passive content approval possibly correlating with consistent, low-effort purchases.\n",
    "- **Cluster 2** has high Emotional Response and Complex Engagement, suggesting content that deeply resonates emotionally and may affect impulse buys or solidarity-based purchases.\n",
    "- **Cluster 3** scores low across all components, indicating content that is less engaging and may correspond to more practical and necessity-driven purchases.\n",
    "\n",
    "### Brief Insights\n",
    "- **Cluster 0 (Active)**: Represents engaging and possibly viral content.\n",
    "- **Cluster 1 (Passive)**: Captures content that is well-liked but not actively engaged with.\n",
    "- **Cluster 2 (Emotional/Complex)**: Reflects content that evokes strong emotional reactions and complex engagement.\n",
    "- **Cluster 3 (Low Engagement)**: Consists of posts that do not stimulate significant interaction or strong emotions.\n"
   ]
  },
  {
   "cell_type": "markdown",
   "id": "dde810e2",
   "metadata": {},
   "source": [
    "### Examples of normal posts per cluster"
   ]
  },
  {
   "cell_type": "markdown",
   "id": "a4c714dc",
   "metadata": {},
   "source": [
    "**Cluster 0: The Active Segment - 🔥 Trend Alert! 🔥 Join the Challenge!**\n",
    "\n",
    "Ever seen a cat do a human thing? 🐱👓 Now's your chance! Join our #CatBoss challenge and share your funniest videos of your furry friend acting like the boss of the house! \n",
    "\n",
    "👉 Swipe up to join the fun and don't forget to tag us and use #CatBoss for a chance to be featured on our story! Let's make this go viral! 🌟\n"
   ]
  },
  {
   "cell_type": "markdown",
   "id": "132c0273",
   "metadata": {},
   "source": [
    "**Cluster 1: The Passive Segment - 🌄 Peaceful Escape 🌄**\n",
    "\n",
    "Today's serene landscape: A calm lake mirroring the majestic mountains beyond. A view so tranquil, it stops your scroll. 🏞️💙 \n",
    "\n",
    "Hit like if you'd love to escape here! 🖼️✨"
   ]
  },
  {
   "cell_type": "markdown",
   "id": "8f5743ce",
   "metadata": {},
   "source": [
    "**Cluster 2: The Emotional/Complex Segment - 💖 Moments of Triumph 💖**\n",
    "\n",
    "\"Every mountain top is within reach if you just keep climbing.\" - Barry Finlay\n",
    "\n",
    "Today, we celebrate Laura's incredible journey from recovery to her first marathon post-recovery. Her strength and determination inspire us all. 🏅👏 #Inspiration #RecoveryWarrior\n",
    "\n",
    "Share your stories of personal triumph in the comments or send us a DM. Let's spread positivity and inspiration together! 💌"
   ]
  },
  {
   "cell_type": "markdown",
   "id": "df2644e9",
   "metadata": {},
   "source": [
    "**Cluster 3: The Low Engagement Segment - 🕒 Store Hours Update 🕒**\n",
    "\n",
    "Just a quick reminder: Our store hours have changed slightly. We are now open from 9 AM to 8 PM on weekdays and 10 AM to 6 PM on weekends. 🕰️🛒\n",
    "\n",
    "Save this post for future reference! See you soon! "
   ]
  },
  {
   "cell_type": "markdown",
   "id": "a55ac795",
   "metadata": {},
   "source": [
    "## Model selection and rationale"
   ]
  },
  {
   "cell_type": "markdown",
   "id": "de6741ff",
   "metadata": {},
   "source": [
    "Based on the performance metrics for the three models, here's a detailed analysis for my selection rationale:\n",
    "\n",
    "### Selection Rationale and Best Model\n",
    "Model 1 (Original x-features) is considered the best model due to the following reasons:\n",
    "\n",
    "- **Balanced Metrics**: It offers a better balance between accuracy (0.739), precision (0.714), and AUC score (0.678) compared to the other models, indicating a robust prediction capability.\n",
    "- **Consistency and Reliability**: The model maintains a moderate train-test gap (0.017) and a relatively higher AUC score, reflecting consistent performance across training and testing datasets.\n",
    "- **Business Impact**: The model demonstrates a higher true positive rate and manageable false positives, which are critical for effective resource allocation and maximizing engagement strategies.\n",
    "- **Risk Management**: Although false positives are higher than desirable, the impact is balanced by the high true positive rate, ensuring that potential high-engagement content is not missed.\n",
    "- **Model Interpretability**: Utilizing original features without transformation allows for clear interpretations and actionable insights, which can be directly applied to business strategies.\n",
    "\n",
    "### Model Results and Confusion Matrix Analysis\n",
    "- **True Negatives (92)**: Effective identification of non-photo content, crucial for avoiding misallocation of resources.\n",
    "- **False Positives (138)**: While high, it suggests room for refinement in model precision, yet the error rate is compensated by high true positives.\n",
    "- **False Negatives (16)**: Relatively low, minimizing missed opportunities for engaging users with photo content.\n",
    "- **True Positives (345)**: High, ensuring that the model effectively captures most of the engaging photo content.\n",
    "\n",
    "### Business Risks and Recommendations\n",
    "- **Reducing False Positives**: Focus on refining the model to decrease false positive rates, potentially through feature engineering or more advanced modeling techniques.\n",
    "- **Maximizing True Positives**: Continue leveraging the strong true positive rate to boost user engagement through targeted content strategies.\n",
    "- **Model Monitoring**: Regularly update and monitor the model performance to adapt to new trends and changes in user engagement behavior.\n",
    "\n",
    "In conclusion, Model 1 not only performs well statistically but also aligns closely with business goals, making it the optimal choice for deployment."
   ]
  },
  {
   "cell_type": "markdown",
   "id": "1d59a797",
   "metadata": {},
   "source": [
    "## References"
   ]
  },
  {
   "cell_type": "markdown",
   "id": "1c5ac762",
   "metadata": {},
   "source": [
    "(1): Dehouche, N. (2020). Dataset on usage and engagement patterns for Facebook Live sellers in Thailand. Business Administration Division, Mahidol University International College. Available at https://pubmed.ncbi.nlm.nih.gov/32420434/"
   ]
  }
 ],
 "metadata": {
  "kernelspec": {
   "display_name": "Python 3 (ipykernel)",
   "language": "python",
   "name": "python3"
  },
  "language_info": {
   "codemirror_mode": {
    "name": "ipython",
    "version": 3
   },
   "file_extension": ".py",
   "mimetype": "text/x-python",
   "name": "python",
   "nbconvert_exporter": "python",
   "pygments_lexer": "ipython3",
   "version": "3.11.5"
  },
  "toc": {
   "base_numbering": 1,
   "nav_menu": {},
   "number_sections": true,
   "sideBar": true,
   "skip_h1_title": false,
   "title_cell": "Table of Contents",
   "title_sidebar": "Contents",
   "toc_cell": false,
   "toc_position": {},
   "toc_section_display": true,
   "toc_window_display": false
  },
  "varInspector": {
   "cols": {
    "lenName": 16,
    "lenType": 16,
    "lenVar": 40
   },
   "kernels_config": {
    "python": {
     "delete_cmd_postfix": "",
     "delete_cmd_prefix": "del ",
     "library": "var_list.py",
     "varRefreshCmd": "print(var_dic_list())"
    },
    "r": {
     "delete_cmd_postfix": ") ",
     "delete_cmd_prefix": "rm(",
     "library": "var_list.r",
     "varRefreshCmd": "cat(var_dic_list()) "
    }
   },
   "types_to_exclude": [
    "module",
    "function",
    "builtin_function_or_method",
    "instance",
    "_Feature"
   ],
   "window_display": false
  }
 },
 "nbformat": 4,
 "nbformat_minor": 5
}
